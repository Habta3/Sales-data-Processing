{
 "cells": [
  {
   "cell_type": "code",
   "execution_count": 1,
   "id": "92bb23ae",
   "metadata": {},
   "outputs": [
    {
     "ename": "ModuleNotFoundError",
     "evalue": "No module named 'pandas_profiling'",
     "output_type": "error",
     "traceback": [
      "\u001b[1;31m---------------------------------------------------------------------------\u001b[0m",
      "\u001b[1;31mModuleNotFoundError\u001b[0m                       Traceback (most recent call last)",
      "Input \u001b[1;32mIn [1]\u001b[0m, in \u001b[0;36m<cell line: 25>\u001b[1;34m()\u001b[0m\n\u001b[0;32m     23\u001b[0m \u001b[38;5;28;01mfrom\u001b[39;00m \u001b[38;5;21;01mmatplotlib\u001b[39;00m \u001b[38;5;28;01mimport\u001b[39;00m rc\n\u001b[0;32m     24\u001b[0m \u001b[38;5;28;01mfrom\u001b[39;00m \u001b[38;5;21;01mpandas\u001b[39;00m\u001b[38;5;21;01m.\u001b[39;00m\u001b[38;5;21;01mplotting\u001b[39;00m \u001b[38;5;28;01mimport\u001b[39;00m register_matplotlib_converters\n\u001b[1;32m---> 25\u001b[0m \u001b[38;5;28;01mfrom\u001b[39;00m \u001b[38;5;21;01mpandas_profiling\u001b[39;00m \u001b[38;5;28;01mimport\u001b[39;00m ProfileReport\n\u001b[0;32m     26\u001b[0m \u001b[38;5;28;01mfrom\u001b[39;00m \u001b[38;5;21;01mpylab\u001b[39;00m \u001b[38;5;28;01mimport\u001b[39;00m rcParams\n\u001b[0;32m     27\u001b[0m sns\u001b[38;5;241m.\u001b[39mset(style\u001b[38;5;241m=\u001b[39m\u001b[38;5;124m'\u001b[39m\u001b[38;5;124mwhitegrid\u001b[39m\u001b[38;5;124m'\u001b[39m, palette\u001b[38;5;241m=\u001b[39m\u001b[38;5;124m'\u001b[39m\u001b[38;5;124mmuted\u001b[39m\u001b[38;5;124m'\u001b[39m, font_scale\u001b[38;5;241m=\u001b[39m\u001b[38;5;241m1.5\u001b[39m)\n",
      "\u001b[1;31mModuleNotFoundError\u001b[0m: No module named 'pandas_profiling'"
     ]
    }
   ],
   "source": [
    "import pandas as pd\n",
    "import numpy as np\n",
    "import time\n",
    "import seaborn as sns\n",
    "import keras \n",
    "from sklearn.pipeline import Pipeline\n",
    "from sklearn.impute import SimpleImputer\n",
    "from sklearn.compose import ColumnTransformer\n",
    "from sklearn.preprocessing import StandardScaler\n",
    "from statsmodels.tsa.stattools import adfuller, acf, pacf\n",
    "# Modeling tools\n",
    "import tensorflow as tf\n",
    "import keras\n",
    "from tensorflow.keras.models import Sequential\n",
    "from tensorflow.keras.layers import Dense, LSTM, Dropout, RepeatVector, TimeDistributed\n",
    "from sklearn.model_selection import train_test_split\n",
    "\n",
    "# visualization tools\n",
    "\n",
    "import matplotlib.pyplot as plt\n",
    "import seaborn as sns\n",
    "import plotly.graph_objects as go\n",
    "from matplotlib import rc\n",
    "from pandas.plotting import register_matplotlib_converters\n",
    "from pandas_profiling import ProfileReport\n",
    "from pylab import rcParams\n",
    "sns.set(style='whitegrid', palette='muted', font_scale=1.5)\n",
    "rcParams['figure.figsize'] = 22, 10"
   ]
  },
  {
   "cell_type": "code",
   "execution_count": 2,
   "id": "976979f2",
   "metadata": {},
   "outputs": [],
   "source": [
    "\n",
    "# Load Preprocessing Script\n",
    "import os, sys\n",
    "sys.path.append(os.path.abspath(os.path.join('E:\\\\10xAccademy_Practice\\\\Week 3\\\\Week 3 Challenge\\\\Sales Data Prediction\\\\Data_preparation')))\n",
    "\"\"\"\n",
    "Import required Data processing scripts\n",
    "\"\"\"\n",
    "\n",
    "from Data_Loader import Data_Loader \n",
    "from Preprocess_Working_Data import Data_Preprocessing\n",
    "from Make_Plots import Make_Plots"
   ]
  },
  {
   "cell_type": "code",
   "execution_count": 3,
   "id": "5d1dc429",
   "metadata": {},
   "outputs": [],
   "source": [
    "# Instantiate Preprocessing cript\n",
    "DL=Data_Loader()\n",
    "dp=Data_Preprocessing()\n",
    "mp=Make_Plots()"
   ]
  },
  {
   "cell_type": "code",
   "execution_count": 13,
   "id": "e5d3fbb0",
   "metadata": {},
   "outputs": [],
   "source": [
    "# Load Cleaned Data\n",
    "data=DL.read_csv(\"E:\\\\10xAccademy_Practice\\\\Week 3\\\\Week 3 Challenge\\\\Sales Data Prediction\\\\Data\\\\rossmann-store-sales\\\\Train_Data_AfterEDA.csv\")\n",
    "test_data=DL.read_csv(\"E:\\\\10xAccademy_Practice\\\\Week 3\\\\Week 3 Challenge\\\\Sales Data Prediction\\\\Data\\\\rossmann-store-sales\\\\Test_Data_AfterEDA.csv \")"
   ]
  },
  {
   "cell_type": "code",
   "execution_count": 5,
   "id": "dedc678f",
   "metadata": {},
   "outputs": [
    {
     "data": {
      "text/html": [
       "<div>\n",
       "<style scoped>\n",
       "    .dataframe tbody tr th:only-of-type {\n",
       "        vertical-align: middle;\n",
       "    }\n",
       "\n",
       "    .dataframe tbody tr th {\n",
       "        vertical-align: top;\n",
       "    }\n",
       "\n",
       "    .dataframe thead th {\n",
       "        text-align: right;\n",
       "    }\n",
       "</style>\n",
       "<table border=\"1\" class=\"dataframe\">\n",
       "  <thead>\n",
       "    <tr style=\"text-align: right;\">\n",
       "      <th></th>\n",
       "      <th>Date</th>\n",
       "      <th>Store</th>\n",
       "      <th>DayOfWeek</th>\n",
       "      <th>Sales</th>\n",
       "      <th>Customers</th>\n",
       "      <th>Open</th>\n",
       "      <th>Promo</th>\n",
       "      <th>StateHoliday</th>\n",
       "      <th>SchoolHoliday</th>\n",
       "      <th>CompetitionDistance</th>\n",
       "      <th>...</th>\n",
       "      <th>Promo2SinceYear</th>\n",
       "      <th>Year</th>\n",
       "      <th>Month</th>\n",
       "      <th>Day</th>\n",
       "      <th>weekday</th>\n",
       "      <th>weekofyear</th>\n",
       "      <th>weekend</th>\n",
       "      <th>PromoInterval</th>\n",
       "      <th>Assortment</th>\n",
       "      <th>StoreType</th>\n",
       "    </tr>\n",
       "  </thead>\n",
       "  <tbody>\n",
       "    <tr>\n",
       "      <th>0</th>\n",
       "      <td>2013-01-01</td>\n",
       "      <td>1</td>\n",
       "      <td>1</td>\n",
       "      <td>0</td>\n",
       "      <td>0</td>\n",
       "      <td>0</td>\n",
       "      <td>0</td>\n",
       "      <td>a</td>\n",
       "      <td>1</td>\n",
       "      <td>1270.0</td>\n",
       "      <td>...</td>\n",
       "      <td>2012.0</td>\n",
       "      <td>2013</td>\n",
       "      <td>1</td>\n",
       "      <td>1</td>\n",
       "      <td>1</td>\n",
       "      <td>1</td>\n",
       "      <td>0</td>\n",
       "      <td>1</td>\n",
       "      <td>0</td>\n",
       "      <td>2</td>\n",
       "    </tr>\n",
       "    <tr>\n",
       "      <th>1</th>\n",
       "      <td>2013-01-02</td>\n",
       "      <td>1</td>\n",
       "      <td>2</td>\n",
       "      <td>5530</td>\n",
       "      <td>668</td>\n",
       "      <td>1</td>\n",
       "      <td>0</td>\n",
       "      <td>0</td>\n",
       "      <td>1</td>\n",
       "      <td>1270.0</td>\n",
       "      <td>...</td>\n",
       "      <td>2012.0</td>\n",
       "      <td>2013</td>\n",
       "      <td>1</td>\n",
       "      <td>2</td>\n",
       "      <td>2</td>\n",
       "      <td>1</td>\n",
       "      <td>0</td>\n",
       "      <td>1</td>\n",
       "      <td>0</td>\n",
       "      <td>2</td>\n",
       "    </tr>\n",
       "    <tr>\n",
       "      <th>2</th>\n",
       "      <td>2013-01-03</td>\n",
       "      <td>1</td>\n",
       "      <td>3</td>\n",
       "      <td>4327</td>\n",
       "      <td>578</td>\n",
       "      <td>1</td>\n",
       "      <td>0</td>\n",
       "      <td>0</td>\n",
       "      <td>1</td>\n",
       "      <td>1270.0</td>\n",
       "      <td>...</td>\n",
       "      <td>2012.0</td>\n",
       "      <td>2013</td>\n",
       "      <td>1</td>\n",
       "      <td>3</td>\n",
       "      <td>3</td>\n",
       "      <td>1</td>\n",
       "      <td>0</td>\n",
       "      <td>1</td>\n",
       "      <td>0</td>\n",
       "      <td>2</td>\n",
       "    </tr>\n",
       "    <tr>\n",
       "      <th>3</th>\n",
       "      <td>2013-01-04</td>\n",
       "      <td>1</td>\n",
       "      <td>4</td>\n",
       "      <td>4486</td>\n",
       "      <td>619</td>\n",
       "      <td>1</td>\n",
       "      <td>0</td>\n",
       "      <td>0</td>\n",
       "      <td>1</td>\n",
       "      <td>1270.0</td>\n",
       "      <td>...</td>\n",
       "      <td>2012.0</td>\n",
       "      <td>2013</td>\n",
       "      <td>1</td>\n",
       "      <td>4</td>\n",
       "      <td>4</td>\n",
       "      <td>1</td>\n",
       "      <td>0</td>\n",
       "      <td>1</td>\n",
       "      <td>0</td>\n",
       "      <td>2</td>\n",
       "    </tr>\n",
       "    <tr>\n",
       "      <th>4</th>\n",
       "      <td>2013-01-05</td>\n",
       "      <td>1</td>\n",
       "      <td>5</td>\n",
       "      <td>4997</td>\n",
       "      <td>635</td>\n",
       "      <td>1</td>\n",
       "      <td>0</td>\n",
       "      <td>0</td>\n",
       "      <td>1</td>\n",
       "      <td>1270.0</td>\n",
       "      <td>...</td>\n",
       "      <td>2012.0</td>\n",
       "      <td>2013</td>\n",
       "      <td>1</td>\n",
       "      <td>5</td>\n",
       "      <td>5</td>\n",
       "      <td>1</td>\n",
       "      <td>1</td>\n",
       "      <td>1</td>\n",
       "      <td>0</td>\n",
       "      <td>2</td>\n",
       "    </tr>\n",
       "  </tbody>\n",
       "</table>\n",
       "<p>5 rows × 24 columns</p>\n",
       "</div>"
      ],
      "text/plain": [
       "         Date  Store  DayOfWeek  Sales  Customers  Open  Promo StateHoliday  \\\n",
       "0  2013-01-01      1          1      0          0     0      0            a   \n",
       "1  2013-01-02      1          2   5530        668     1      0            0   \n",
       "2  2013-01-03      1          3   4327        578     1      0            0   \n",
       "3  2013-01-04      1          4   4486        619     1      0            0   \n",
       "4  2013-01-05      1          5   4997        635     1      0            0   \n",
       "\n",
       "   SchoolHoliday  CompetitionDistance  ...  Promo2SinceYear  Year  Month  Day  \\\n",
       "0              1               1270.0  ...           2012.0  2013      1    1   \n",
       "1              1               1270.0  ...           2012.0  2013      1    2   \n",
       "2              1               1270.0  ...           2012.0  2013      1    3   \n",
       "3              1               1270.0  ...           2012.0  2013      1    4   \n",
       "4              1               1270.0  ...           2012.0  2013      1    5   \n",
       "\n",
       "   weekday  weekofyear  weekend  PromoInterval  Assortment  StoreType  \n",
       "0        1           1        0              1           0          2  \n",
       "1        2           1        0              1           0          2  \n",
       "2        3           1        0              1           0          2  \n",
       "3        4           1        0              1           0          2  \n",
       "4        5           1        1              1           0          2  \n",
       "\n",
       "[5 rows x 24 columns]"
      ]
     },
     "execution_count": 5,
     "metadata": {},
     "output_type": "execute_result"
    }
   ],
   "source": [
    "# Visualize the Data\n",
    "data.head(5)"
   ]
  },
  {
   "cell_type": "code",
   "execution_count": 6,
   "id": "dbfe6669",
   "metadata": {},
   "outputs": [
    {
     "name": "stdout",
     "output_type": "stream",
     "text": [
      "1017209\n"
     ]
    }
   ],
   "source": [
    "print(len(data))"
   ]
  },
  {
   "cell_type": "code",
   "execution_count": 7,
   "id": "358de40e",
   "metadata": {},
   "outputs": [
    {
     "data": {
      "text/plain": [
       "Date                         0\n",
       "Store                        0\n",
       "DayOfWeek                    0\n",
       "Sales                        0\n",
       "Customers                    0\n",
       "Open                         0\n",
       "Promo                        0\n",
       "StateHoliday                 0\n",
       "SchoolHoliday                0\n",
       "CompetitionDistance          0\n",
       "CompetitionOpenSinceMonth    0\n",
       "CompetitionOpenSinceYear     0\n",
       "Promo2                       0\n",
       "Promo2SinceWeek              0\n",
       "Promo2SinceYear              0\n",
       "Year                         0\n",
       "Month                        0\n",
       "Day                          0\n",
       "weekday                      0\n",
       "weekofyear                   0\n",
       "weekend                      0\n",
       "PromoInterval                0\n",
       "Assortment                   0\n",
       "StoreType                    0\n",
       "dtype: int64"
      ]
     },
     "execution_count": 7,
     "metadata": {},
     "output_type": "execute_result"
    }
   ],
   "source": [
    "# Check if there are Duplicate and Missing values\n",
    "data.isnull().sum()"
   ]
  },
  {
   "cell_type": "code",
   "execution_count": 8,
   "id": "a3a6589f",
   "metadata": {},
   "outputs": [
    {
     "data": {
      "text/plain": [
       "0"
      ]
     },
     "execution_count": 8,
     "metadata": {},
     "output_type": "execute_result"
    }
   ],
   "source": [
    "data.duplicated().sum()"
   ]
  },
  {
   "cell_type": "markdown",
   "id": "1d3c73d0",
   "metadata": {},
   "source": [
    "# There is no missing and Duplicate value, select the attributes for timeseries analysis"
   ]
  },
  {
   "cell_type": "code",
   "execution_count": 9,
   "id": "0b4153c9",
   "metadata": {},
   "outputs": [],
   "source": [
    "data=data.set_index(['Date'])"
   ]
  },
  {
   "cell_type": "code",
   "execution_count": 10,
   "id": "ded6c9f8",
   "metadata": {},
   "outputs": [
    {
     "data": {
      "text/html": [
       "<div>\n",
       "<style scoped>\n",
       "    .dataframe tbody tr th:only-of-type {\n",
       "        vertical-align: middle;\n",
       "    }\n",
       "\n",
       "    .dataframe tbody tr th {\n",
       "        vertical-align: top;\n",
       "    }\n",
       "\n",
       "    .dataframe thead th {\n",
       "        text-align: right;\n",
       "    }\n",
       "</style>\n",
       "<table border=\"1\" class=\"dataframe\">\n",
       "  <thead>\n",
       "    <tr style=\"text-align: right;\">\n",
       "      <th></th>\n",
       "      <th>Store</th>\n",
       "      <th>DayOfWeek</th>\n",
       "      <th>Sales</th>\n",
       "      <th>Customers</th>\n",
       "      <th>Open</th>\n",
       "      <th>Promo</th>\n",
       "      <th>StateHoliday</th>\n",
       "      <th>SchoolHoliday</th>\n",
       "      <th>CompetitionDistance</th>\n",
       "      <th>CompetitionOpenSinceMonth</th>\n",
       "      <th>...</th>\n",
       "      <th>Promo2SinceYear</th>\n",
       "      <th>Year</th>\n",
       "      <th>Month</th>\n",
       "      <th>Day</th>\n",
       "      <th>weekday</th>\n",
       "      <th>weekofyear</th>\n",
       "      <th>weekend</th>\n",
       "      <th>PromoInterval</th>\n",
       "      <th>Assortment</th>\n",
       "      <th>StoreType</th>\n",
       "    </tr>\n",
       "    <tr>\n",
       "      <th>Date</th>\n",
       "      <th></th>\n",
       "      <th></th>\n",
       "      <th></th>\n",
       "      <th></th>\n",
       "      <th></th>\n",
       "      <th></th>\n",
       "      <th></th>\n",
       "      <th></th>\n",
       "      <th></th>\n",
       "      <th></th>\n",
       "      <th></th>\n",
       "      <th></th>\n",
       "      <th></th>\n",
       "      <th></th>\n",
       "      <th></th>\n",
       "      <th></th>\n",
       "      <th></th>\n",
       "      <th></th>\n",
       "      <th></th>\n",
       "      <th></th>\n",
       "      <th></th>\n",
       "    </tr>\n",
       "  </thead>\n",
       "  <tbody>\n",
       "    <tr>\n",
       "      <th>2013-01-01</th>\n",
       "      <td>1</td>\n",
       "      <td>1</td>\n",
       "      <td>0</td>\n",
       "      <td>0</td>\n",
       "      <td>0</td>\n",
       "      <td>0</td>\n",
       "      <td>a</td>\n",
       "      <td>1</td>\n",
       "      <td>1270.0</td>\n",
       "      <td>9.0</td>\n",
       "      <td>...</td>\n",
       "      <td>2012.0</td>\n",
       "      <td>2013</td>\n",
       "      <td>1</td>\n",
       "      <td>1</td>\n",
       "      <td>1</td>\n",
       "      <td>1</td>\n",
       "      <td>0</td>\n",
       "      <td>1</td>\n",
       "      <td>0</td>\n",
       "      <td>2</td>\n",
       "    </tr>\n",
       "    <tr>\n",
       "      <th>2013-01-02</th>\n",
       "      <td>1</td>\n",
       "      <td>2</td>\n",
       "      <td>5530</td>\n",
       "      <td>668</td>\n",
       "      <td>1</td>\n",
       "      <td>0</td>\n",
       "      <td>0</td>\n",
       "      <td>1</td>\n",
       "      <td>1270.0</td>\n",
       "      <td>9.0</td>\n",
       "      <td>...</td>\n",
       "      <td>2012.0</td>\n",
       "      <td>2013</td>\n",
       "      <td>1</td>\n",
       "      <td>2</td>\n",
       "      <td>2</td>\n",
       "      <td>1</td>\n",
       "      <td>0</td>\n",
       "      <td>1</td>\n",
       "      <td>0</td>\n",
       "      <td>2</td>\n",
       "    </tr>\n",
       "    <tr>\n",
       "      <th>2013-01-03</th>\n",
       "      <td>1</td>\n",
       "      <td>3</td>\n",
       "      <td>4327</td>\n",
       "      <td>578</td>\n",
       "      <td>1</td>\n",
       "      <td>0</td>\n",
       "      <td>0</td>\n",
       "      <td>1</td>\n",
       "      <td>1270.0</td>\n",
       "      <td>9.0</td>\n",
       "      <td>...</td>\n",
       "      <td>2012.0</td>\n",
       "      <td>2013</td>\n",
       "      <td>1</td>\n",
       "      <td>3</td>\n",
       "      <td>3</td>\n",
       "      <td>1</td>\n",
       "      <td>0</td>\n",
       "      <td>1</td>\n",
       "      <td>0</td>\n",
       "      <td>2</td>\n",
       "    </tr>\n",
       "    <tr>\n",
       "      <th>2013-01-04</th>\n",
       "      <td>1</td>\n",
       "      <td>4</td>\n",
       "      <td>4486</td>\n",
       "      <td>619</td>\n",
       "      <td>1</td>\n",
       "      <td>0</td>\n",
       "      <td>0</td>\n",
       "      <td>1</td>\n",
       "      <td>1270.0</td>\n",
       "      <td>9.0</td>\n",
       "      <td>...</td>\n",
       "      <td>2012.0</td>\n",
       "      <td>2013</td>\n",
       "      <td>1</td>\n",
       "      <td>4</td>\n",
       "      <td>4</td>\n",
       "      <td>1</td>\n",
       "      <td>0</td>\n",
       "      <td>1</td>\n",
       "      <td>0</td>\n",
       "      <td>2</td>\n",
       "    </tr>\n",
       "    <tr>\n",
       "      <th>2013-01-05</th>\n",
       "      <td>1</td>\n",
       "      <td>5</td>\n",
       "      <td>4997</td>\n",
       "      <td>635</td>\n",
       "      <td>1</td>\n",
       "      <td>0</td>\n",
       "      <td>0</td>\n",
       "      <td>1</td>\n",
       "      <td>1270.0</td>\n",
       "      <td>9.0</td>\n",
       "      <td>...</td>\n",
       "      <td>2012.0</td>\n",
       "      <td>2013</td>\n",
       "      <td>1</td>\n",
       "      <td>5</td>\n",
       "      <td>5</td>\n",
       "      <td>1</td>\n",
       "      <td>1</td>\n",
       "      <td>1</td>\n",
       "      <td>0</td>\n",
       "      <td>2</td>\n",
       "    </tr>\n",
       "  </tbody>\n",
       "</table>\n",
       "<p>5 rows × 23 columns</p>\n",
       "</div>"
      ],
      "text/plain": [
       "            Store  DayOfWeek  Sales  Customers  Open  Promo StateHoliday  \\\n",
       "Date                                                                       \n",
       "2013-01-01      1          1      0          0     0      0            a   \n",
       "2013-01-02      1          2   5530        668     1      0            0   \n",
       "2013-01-03      1          3   4327        578     1      0            0   \n",
       "2013-01-04      1          4   4486        619     1      0            0   \n",
       "2013-01-05      1          5   4997        635     1      0            0   \n",
       "\n",
       "            SchoolHoliday  CompetitionDistance  CompetitionOpenSinceMonth  \\\n",
       "Date                                                                        \n",
       "2013-01-01              1               1270.0                        9.0   \n",
       "2013-01-02              1               1270.0                        9.0   \n",
       "2013-01-03              1               1270.0                        9.0   \n",
       "2013-01-04              1               1270.0                        9.0   \n",
       "2013-01-05              1               1270.0                        9.0   \n",
       "\n",
       "            ...  Promo2SinceYear  Year  Month  Day  weekday  weekofyear  \\\n",
       "Date        ...                                                           \n",
       "2013-01-01  ...           2012.0  2013      1    1        1           1   \n",
       "2013-01-02  ...           2012.0  2013      1    2        2           1   \n",
       "2013-01-03  ...           2012.0  2013      1    3        3           1   \n",
       "2013-01-04  ...           2012.0  2013      1    4        4           1   \n",
       "2013-01-05  ...           2012.0  2013      1    5        5           1   \n",
       "\n",
       "            weekend  PromoInterval  Assortment  StoreType  \n",
       "Date                                                       \n",
       "2013-01-01        0              1           0          2  \n",
       "2013-01-02        0              1           0          2  \n",
       "2013-01-03        0              1           0          2  \n",
       "2013-01-04        0              1           0          2  \n",
       "2013-01-05        1              1           0          2  \n",
       "\n",
       "[5 rows x 23 columns]"
      ]
     },
     "execution_count": 10,
     "metadata": {},
     "output_type": "execute_result"
    }
   ],
   "source": [
    "data.head()"
   ]
  },
  {
   "cell_type": "code",
   "execution_count": 11,
   "id": "4c25b0e1",
   "metadata": {},
   "outputs": [
    {
     "data": {
      "text/html": [
       "<div>\n",
       "<style scoped>\n",
       "    .dataframe tbody tr th:only-of-type {\n",
       "        vertical-align: middle;\n",
       "    }\n",
       "\n",
       "    .dataframe tbody tr th {\n",
       "        vertical-align: top;\n",
       "    }\n",
       "\n",
       "    .dataframe thead th {\n",
       "        text-align: right;\n",
       "    }\n",
       "</style>\n",
       "<table border=\"1\" class=\"dataframe\">\n",
       "  <thead>\n",
       "    <tr style=\"text-align: right;\">\n",
       "      <th></th>\n",
       "      <th>Store</th>\n",
       "      <th>DayOfWeek</th>\n",
       "      <th>Sales</th>\n",
       "      <th>Customers</th>\n",
       "      <th>Open</th>\n",
       "      <th>Promo</th>\n",
       "      <th>StateHoliday</th>\n",
       "      <th>SchoolHoliday</th>\n",
       "      <th>CompetitionDistance</th>\n",
       "      <th>CompetitionOpenSinceMonth</th>\n",
       "      <th>...</th>\n",
       "      <th>Promo2SinceYear</th>\n",
       "      <th>Year</th>\n",
       "      <th>Month</th>\n",
       "      <th>Day</th>\n",
       "      <th>weekday</th>\n",
       "      <th>weekofyear</th>\n",
       "      <th>weekend</th>\n",
       "      <th>PromoInterval</th>\n",
       "      <th>Assortment</th>\n",
       "      <th>StoreType</th>\n",
       "    </tr>\n",
       "    <tr>\n",
       "      <th>Date</th>\n",
       "      <th></th>\n",
       "      <th></th>\n",
       "      <th></th>\n",
       "      <th></th>\n",
       "      <th></th>\n",
       "      <th></th>\n",
       "      <th></th>\n",
       "      <th></th>\n",
       "      <th></th>\n",
       "      <th></th>\n",
       "      <th></th>\n",
       "      <th></th>\n",
       "      <th></th>\n",
       "      <th></th>\n",
       "      <th></th>\n",
       "      <th></th>\n",
       "      <th></th>\n",
       "      <th></th>\n",
       "      <th></th>\n",
       "      <th></th>\n",
       "      <th></th>\n",
       "    </tr>\n",
       "  </thead>\n",
       "  <tbody>\n",
       "    <tr>\n",
       "      <th>2013-01-01</th>\n",
       "      <td>1</td>\n",
       "      <td>1</td>\n",
       "      <td>0</td>\n",
       "      <td>0</td>\n",
       "      <td>0</td>\n",
       "      <td>0</td>\n",
       "      <td>a</td>\n",
       "      <td>1</td>\n",
       "      <td>1270.0</td>\n",
       "      <td>9.0</td>\n",
       "      <td>...</td>\n",
       "      <td>2012.0</td>\n",
       "      <td>2013</td>\n",
       "      <td>1</td>\n",
       "      <td>1</td>\n",
       "      <td>1</td>\n",
       "      <td>1</td>\n",
       "      <td>0</td>\n",
       "      <td>1</td>\n",
       "      <td>0</td>\n",
       "      <td>2</td>\n",
       "    </tr>\n",
       "    <tr>\n",
       "      <th>2013-01-01</th>\n",
       "      <td>304</td>\n",
       "      <td>1</td>\n",
       "      <td>0</td>\n",
       "      <td>0</td>\n",
       "      <td>0</td>\n",
       "      <td>0</td>\n",
       "      <td>a</td>\n",
       "      <td>1</td>\n",
       "      <td>1950.0</td>\n",
       "      <td>7.0</td>\n",
       "      <td>...</td>\n",
       "      <td>2012.0</td>\n",
       "      <td>2013</td>\n",
       "      <td>1</td>\n",
       "      <td>1</td>\n",
       "      <td>1</td>\n",
       "      <td>1</td>\n",
       "      <td>0</td>\n",
       "      <td>1</td>\n",
       "      <td>0</td>\n",
       "      <td>0</td>\n",
       "    </tr>\n",
       "    <tr>\n",
       "      <th>2013-01-01</th>\n",
       "      <td>986</td>\n",
       "      <td>1</td>\n",
       "      <td>0</td>\n",
       "      <td>0</td>\n",
       "      <td>0</td>\n",
       "      <td>0</td>\n",
       "      <td>a</td>\n",
       "      <td>1</td>\n",
       "      <td>620.0</td>\n",
       "      <td>10.0</td>\n",
       "      <td>...</td>\n",
       "      <td>2014.0</td>\n",
       "      <td>2013</td>\n",
       "      <td>1</td>\n",
       "      <td>1</td>\n",
       "      <td>1</td>\n",
       "      <td>1</td>\n",
       "      <td>0</td>\n",
       "      <td>0</td>\n",
       "      <td>0</td>\n",
       "      <td>0</td>\n",
       "    </tr>\n",
       "    <tr>\n",
       "      <th>2013-01-01</th>\n",
       "      <td>724</td>\n",
       "      <td>1</td>\n",
       "      <td>0</td>\n",
       "      <td>0</td>\n",
       "      <td>0</td>\n",
       "      <td>0</td>\n",
       "      <td>a</td>\n",
       "      <td>1</td>\n",
       "      <td>5900.0</td>\n",
       "      <td>8.0</td>\n",
       "      <td>...</td>\n",
       "      <td>2012.0</td>\n",
       "      <td>2013</td>\n",
       "      <td>1</td>\n",
       "      <td>1</td>\n",
       "      <td>1</td>\n",
       "      <td>1</td>\n",
       "      <td>0</td>\n",
       "      <td>1</td>\n",
       "      <td>2</td>\n",
       "      <td>3</td>\n",
       "    </tr>\n",
       "    <tr>\n",
       "      <th>2013-01-01</th>\n",
       "      <td>805</td>\n",
       "      <td>1</td>\n",
       "      <td>0</td>\n",
       "      <td>0</td>\n",
       "      <td>0</td>\n",
       "      <td>0</td>\n",
       "      <td>a</td>\n",
       "      <td>1</td>\n",
       "      <td>24770.0</td>\n",
       "      <td>10.0</td>\n",
       "      <td>...</td>\n",
       "      <td>2014.0</td>\n",
       "      <td>2013</td>\n",
       "      <td>1</td>\n",
       "      <td>1</td>\n",
       "      <td>1</td>\n",
       "      <td>1</td>\n",
       "      <td>0</td>\n",
       "      <td>2</td>\n",
       "      <td>0</td>\n",
       "      <td>3</td>\n",
       "    </tr>\n",
       "  </tbody>\n",
       "</table>\n",
       "<p>5 rows × 23 columns</p>\n",
       "</div>"
      ],
      "text/plain": [
       "            Store  DayOfWeek  Sales  Customers  Open  Promo StateHoliday  \\\n",
       "Date                                                                       \n",
       "2013-01-01      1          1      0          0     0      0            a   \n",
       "2013-01-01    304          1      0          0     0      0            a   \n",
       "2013-01-01    986          1      0          0     0      0            a   \n",
       "2013-01-01    724          1      0          0     0      0            a   \n",
       "2013-01-01    805          1      0          0     0      0            a   \n",
       "\n",
       "            SchoolHoliday  CompetitionDistance  CompetitionOpenSinceMonth  \\\n",
       "Date                                                                        \n",
       "2013-01-01              1               1270.0                        9.0   \n",
       "2013-01-01              1               1950.0                        7.0   \n",
       "2013-01-01              1                620.0                       10.0   \n",
       "2013-01-01              1               5900.0                        8.0   \n",
       "2013-01-01              1              24770.0                       10.0   \n",
       "\n",
       "            ...  Promo2SinceYear  Year  Month  Day  weekday  weekofyear  \\\n",
       "Date        ...                                                           \n",
       "2013-01-01  ...           2012.0  2013      1    1        1           1   \n",
       "2013-01-01  ...           2012.0  2013      1    1        1           1   \n",
       "2013-01-01  ...           2014.0  2013      1    1        1           1   \n",
       "2013-01-01  ...           2012.0  2013      1    1        1           1   \n",
       "2013-01-01  ...           2014.0  2013      1    1        1           1   \n",
       "\n",
       "            weekend  PromoInterval  Assortment  StoreType  \n",
       "Date                                                       \n",
       "2013-01-01        0              1           0          2  \n",
       "2013-01-01        0              1           0          0  \n",
       "2013-01-01        0              0           0          0  \n",
       "2013-01-01        0              1           2          3  \n",
       "2013-01-01        0              2           0          3  \n",
       "\n",
       "[5 rows x 23 columns]"
      ]
     },
     "execution_count": 11,
     "metadata": {},
     "output_type": "execute_result"
    }
   ],
   "source": [
    "data.sort_values(by='Date', ascending = True, inplace=True)\n",
    "data.head()"
   ]
  },
  {
   "cell_type": "code",
   "execution_count": 14,
   "id": "041c4554",
   "metadata": {},
   "outputs": [
    {
     "data": {
      "text/html": [
       "<div>\n",
       "<style scoped>\n",
       "    .dataframe tbody tr th:only-of-type {\n",
       "        vertical-align: middle;\n",
       "    }\n",
       "\n",
       "    .dataframe tbody tr th {\n",
       "        vertical-align: top;\n",
       "    }\n",
       "\n",
       "    .dataframe thead th {\n",
       "        text-align: right;\n",
       "    }\n",
       "</style>\n",
       "<table border=\"1\" class=\"dataframe\">\n",
       "  <thead>\n",
       "    <tr style=\"text-align: right;\">\n",
       "      <th></th>\n",
       "      <th>Date</th>\n",
       "      <th>Sales</th>\n",
       "    </tr>\n",
       "  </thead>\n",
       "  <tbody>\n",
       "    <tr>\n",
       "      <th>0</th>\n",
       "      <td>2013-01-01</td>\n",
       "      <td>0</td>\n",
       "    </tr>\n",
       "    <tr>\n",
       "      <th>1</th>\n",
       "      <td>2013-01-02</td>\n",
       "      <td>5530</td>\n",
       "    </tr>\n",
       "    <tr>\n",
       "      <th>2</th>\n",
       "      <td>2013-01-03</td>\n",
       "      <td>4327</td>\n",
       "    </tr>\n",
       "    <tr>\n",
       "      <th>3</th>\n",
       "      <td>2013-01-04</td>\n",
       "      <td>4486</td>\n",
       "    </tr>\n",
       "    <tr>\n",
       "      <th>4</th>\n",
       "      <td>2013-01-05</td>\n",
       "      <td>4997</td>\n",
       "    </tr>\n",
       "  </tbody>\n",
       "</table>\n",
       "</div>"
      ],
      "text/plain": [
       "         Date  Sales\n",
       "0  2013-01-01      0\n",
       "1  2013-01-02   5530\n",
       "2  2013-01-03   4327\n",
       "3  2013-01-04   4486\n",
       "4  2013-01-05   4997"
      ]
     },
     "execution_count": 14,
     "metadata": {},
     "output_type": "execute_result"
    }
   ],
   "source": [
    "data2=data[['Date', 'Sales']]\n",
    "data2.head()"
   ]
  },
  {
   "cell_type": "code",
   "execution_count": 15,
   "id": "867546f0",
   "metadata": {},
   "outputs": [
    {
     "name": "stderr",
     "output_type": "stream",
     "text": [
      "C:\\Users\\HB\\AppData\\Local\\Temp\\ipykernel_19040\\1027918010.py:2: SettingWithCopyWarning: \n",
      "A value is trying to be set on a copy of a slice from a DataFrame.\n",
      "Try using .loc[row_indexer,col_indexer] = value instead\n",
      "\n",
      "See the caveats in the documentation: https://pandas.pydata.org/pandas-docs/stable/user_guide/indexing.html#returning-a-view-versus-a-copy\n",
      "  data2.Date = pd.to_datetime(data2.Date)\n"
     ]
    }
   ],
   "source": [
    "# Convert Date to Datetime\n",
    "data2.Date = pd.to_datetime(data2.Date)"
   ]
  },
  {
   "cell_type": "code",
   "execution_count": 16,
   "id": "71fad60b",
   "metadata": {},
   "outputs": [],
   "source": [
    "# Remove Dates that have no sales\n",
    "data2 = data2[data2['Sales'] > 0.0]"
   ]
  },
  {
   "cell_type": "code",
   "execution_count": 17,
   "id": "f107718c",
   "metadata": {},
   "outputs": [
    {
     "data": {
      "text/html": [
       "<div>\n",
       "<style scoped>\n",
       "    .dataframe tbody tr th:only-of-type {\n",
       "        vertical-align: middle;\n",
       "    }\n",
       "\n",
       "    .dataframe tbody tr th {\n",
       "        vertical-align: top;\n",
       "    }\n",
       "\n",
       "    .dataframe thead th {\n",
       "        text-align: right;\n",
       "    }\n",
       "</style>\n",
       "<table border=\"1\" class=\"dataframe\">\n",
       "  <thead>\n",
       "    <tr style=\"text-align: right;\">\n",
       "      <th></th>\n",
       "      <th>Date</th>\n",
       "      <th>Sales</th>\n",
       "    </tr>\n",
       "  </thead>\n",
       "  <tbody>\n",
       "    <tr>\n",
       "      <th>1</th>\n",
       "      <td>2013-01-02</td>\n",
       "      <td>5530</td>\n",
       "    </tr>\n",
       "    <tr>\n",
       "      <th>2</th>\n",
       "      <td>2013-01-03</td>\n",
       "      <td>4327</td>\n",
       "    </tr>\n",
       "    <tr>\n",
       "      <th>3</th>\n",
       "      <td>2013-01-04</td>\n",
       "      <td>4486</td>\n",
       "    </tr>\n",
       "    <tr>\n",
       "      <th>4</th>\n",
       "      <td>2013-01-05</td>\n",
       "      <td>4997</td>\n",
       "    </tr>\n",
       "    <tr>\n",
       "      <th>6</th>\n",
       "      <td>2013-01-07</td>\n",
       "      <td>7176</td>\n",
       "    </tr>\n",
       "  </tbody>\n",
       "</table>\n",
       "</div>"
      ],
      "text/plain": [
       "        Date  Sales\n",
       "1 2013-01-02   5530\n",
       "2 2013-01-03   4327\n",
       "3 2013-01-04   4486\n",
       "4 2013-01-05   4997\n",
       "6 2013-01-07   7176"
      ]
     },
     "execution_count": 17,
     "metadata": {},
     "output_type": "execute_result"
    }
   ],
   "source": [
    "data2.head()"
   ]
  },
  {
   "cell_type": "markdown",
   "id": "f714bda4",
   "metadata": {},
   "source": [
    "# Visualize the Relationship between Date and Sales"
   ]
  },
  {
   "cell_type": "code",
   "execution_count": 18,
   "id": "7c0957e8",
   "metadata": {},
   "outputs": [
    {
     "data": {
      "image/png": "[encoded data removed]",
      "text/plain": [
       "<Figure size 1440x1080 with 1 Axes>"
      ]
     },
     "metadata": {
      "needs_background": "light"
     },
     "output_type": "display_data"
    }
   ],
   "source": [
    "\n",
    "import matplotlib.pyplot as plt\n",
    "data2.plot(x='Date', figsize=(20, 15))\n",
    "plt.ylabel(\"Sales\")\n",
    "plt.title(\"Sales\", fontsize=16)\n",
    "plt.legend(fontsize=14);\n",
    "plt.show()"
   ]
  },
  {
   "cell_type": "code",
   "execution_count": 19,
   "id": "ace9ef3d",
   "metadata": {},
   "outputs": [],
   "source": [
    "# Split the data\n",
    "train_size = int(len(data2) * 0.70)\n",
    "test_size = len(data2) - train_size\n",
    "train, test = data2.iloc[0:train_size], data2.iloc[train_size:len(data2)]"
   ]
  },
  {
   "cell_type": "code",
   "execution_count": 20,
   "id": "ac1beb28",
   "metadata": {},
   "outputs": [
    {
     "name": "stdout",
     "output_type": "stream",
     "text": [
      "There is 591036 Training Data \n",
      "There is 253302 Testing Data \n"
     ]
    }
   ],
   "source": [
    "print(f\"There is {train_size} Training Data \")\n",
    "print(f\"There is {test_size} Testing Data \")"
   ]
  },
  {
   "cell_type": "code",
   "execution_count": 21,
   "id": "b0940bc1",
   "metadata": {},
   "outputs": [
    {
     "data": {
      "text/plain": [
       "((591036, 2), (253302, 2))"
      ]
     },
     "execution_count": 21,
     "metadata": {},
     "output_type": "execute_result"
    }
   ],
   "source": [
    "train.shape, test.shape"
   ]
  },
  {
   "cell_type": "markdown",
   "id": "868a23a5",
   "metadata": {},
   "source": [
    "# split Test data into test and Validation set"
   ]
  },
  {
   "cell_type": "code",
   "execution_count": 22,
   "id": "605437cb",
   "metadata": {},
   "outputs": [],
   "source": [
    "test_size=int(len(test)*0.5)\n",
    "validation_size=len(test)-test_size"
   ]
  },
  {
   "cell_type": "code",
   "execution_count": 23,
   "id": "63c08233",
   "metadata": {},
   "outputs": [
    {
     "name": "stdout",
     "output_type": "stream",
     "text": [
      " Test size is :126651 and Validation size is :126651\n"
     ]
    }
   ],
   "source": [
    "print(f\" Test size is :{test_size} and Validation size is :{validation_size}\")"
   ]
  },
  {
   "cell_type": "code",
   "execution_count": 24,
   "id": "9a718ff0",
   "metadata": {},
   "outputs": [
    {
     "name": "stdout",
     "output_type": "stream",
     "text": [
      "(126651, 2) (126651, 2)\n"
     ]
    }
   ],
   "source": [
    "test_data, validation_data = test.iloc[0:test_size], test.iloc[test_size:len(test)]\n",
    "print(test_data.shape, validation_data.shape)"
   ]
  },
  {
   "cell_type": "code",
   "execution_count": 25,
   "id": "9c1b409f",
   "metadata": {},
   "outputs": [],
   "source": [
    "# standardize the data\n",
    "from sklearn.preprocessing import StandardScaler\n"
   ]
  },
  {
   "cell_type": "code",
   "execution_count": 26,
   "id": "2ecf90ce",
   "metadata": {},
   "outputs": [
    {
     "name": "stderr",
     "output_type": "stream",
     "text": [
      "C:\\Users\\HB\\AppData\\Local\\Temp\\ipykernel_19040\\2299719624.py:4: SettingWithCopyWarning: \n",
      "A value is trying to be set on a copy of a slice from a DataFrame.\n",
      "Try using .loc[row_indexer,col_indexer] = value instead\n",
      "\n",
      "See the caveats in the documentation: https://pandas.pydata.org/pandas-docs/stable/user_guide/indexing.html#returning-a-view-versus-a-copy\n",
      "  train['Sales'] = scaler.transform(train[['Sales']])\n",
      "C:\\Users\\HB\\AppData\\Local\\Temp\\ipykernel_19040\\2299719624.py:5: SettingWithCopyWarning: \n",
      "A value is trying to be set on a copy of a slice from a DataFrame.\n",
      "Try using .loc[row_indexer,col_indexer] = value instead\n",
      "\n",
      "See the caveats in the documentation: https://pandas.pydata.org/pandas-docs/stable/user_guide/indexing.html#returning-a-view-versus-a-copy\n",
      "  test_data['Sales'] = scaler.transform(test_data[['Sales']])\n",
      "C:\\Users\\HB\\AppData\\Local\\Temp\\ipykernel_19040\\2299719624.py:6: SettingWithCopyWarning: \n",
      "A value is trying to be set on a copy of a slice from a DataFrame.\n",
      "Try using .loc[row_indexer,col_indexer] = value instead\n",
      "\n",
      "See the caveats in the documentation: https://pandas.pydata.org/pandas-docs/stable/user_guide/indexing.html#returning-a-view-versus-a-copy\n",
      "  validation_data['Sales'] = scaler.transform(validation_data[['Sales']])\n"
     ]
    }
   ],
   "source": [
    "scaler = StandardScaler()\n",
    "scaler = scaler.fit(train[['Sales']])\n",
    "\n",
    "train['Sales'] = scaler.transform(train[['Sales']])\n",
    "test_data['Sales'] = scaler.transform(test_data[['Sales']])\n",
    "validation_data['Sales'] = scaler.transform(validation_data[['Sales']])"
   ]
  },
  {
   "cell_type": "code",
   "execution_count": 27,
   "id": "d8f07fb6",
   "metadata": {},
   "outputs": [],
   "source": [
    "#create Padding sequence\n",
    "TIME_STEPS=30\n",
    "\n",
    "def create_sequences(X, y, time_steps=TIME_STEPS):\n",
    "    Xs, ys = [], []\n",
    "    for i in range(len(X)-time_steps):\n",
    "        Xs.append(X.iloc[i:(i+time_steps)].values)\n",
    "        ys.append(y.iloc[i+time_steps])\n",
    "    \n",
    "    return np.array(Xs), np.array(ys)\n"
   ]
  },
  {
   "cell_type": "code",
   "execution_count": 28,
   "id": "36ac5968",
   "metadata": {},
   "outputs": [],
   "source": [
    "X_train, y_train = create_sequences(train[['Sales']], train['Sales'])\n",
    "X_test, y_test = create_sequences(test_data[['Sales']], test_data['Sales'])\n",
    "X_val, y_val = create_sequences(validation_data[['Sales']], validation_data['Sales'])"
   ]
  },
  {
   "cell_type": "code",
   "execution_count": 29,
   "id": "606cbd06",
   "metadata": {},
   "outputs": [
    {
     "data": {
      "text/plain": [
       "((591006, 30, 1), (591006,))"
      ]
     },
     "execution_count": 29,
     "metadata": {},
     "output_type": "execute_result"
    }
   ],
   "source": [
    "X_train.shape, y_train.shape"
   ]
  },
  {
   "cell_type": "code",
   "execution_count": 30,
   "id": "d1848cf1",
   "metadata": {},
   "outputs": [
    {
     "data": {
      "text/plain": [
       "((126621, 30, 1), (126621,))"
      ]
     },
     "execution_count": 30,
     "metadata": {},
     "output_type": "execute_result"
    }
   ],
   "source": [
    "X_test.shape, y_test.shape"
   ]
  },
  {
   "cell_type": "code",
   "execution_count": 31,
   "id": "667032e8",
   "metadata": {},
   "outputs": [
    {
     "data": {
      "text/plain": [
       "((126621, 30, 1), (126621,))"
      ]
     },
     "execution_count": 31,
     "metadata": {},
     "output_type": "execute_result"
    }
   ],
   "source": [
    "X_val.shape, y_val.shape"
   ]
  },
  {
   "cell_type": "markdown",
   "id": "8986c0f3",
   "metadata": {},
   "source": [
    "# Build Sequential Model"
   ]
  },
  {
   "cell_type": "code",
   "execution_count": 32,
   "id": "c4a6804a",
   "metadata": {},
   "outputs": [],
   "source": [
    "from tensorflow.keras.optimizers import Adam\n",
    "from tensorflow.keras.models import Sequential\n",
    "from tensorflow.keras.layers import LSTM,Dense, Dropout, TimeDistributed, RepeatVector"
   ]
  },
  {
   "cell_type": "code",
   "execution_count": 33,
   "id": "1d809f7e",
   "metadata": {},
   "outputs": [
    {
     "name": "stdout",
     "output_type": "stream",
     "text": [
      "Model: \"sequential\"\n",
      "_________________________________________________________________\n",
      " Layer (type)                Output Shape              Param #   \n",
      "=================================================================\n",
      " lstm (LSTM)                 (None, 128)               66560     \n",
      "                                                                 \n",
      " dropout (Dropout)           (None, 128)               0         \n",
      "                                                                 \n",
      " repeat_vector (RepeatVector  (None, 30, 128)          0         \n",
      " )                                                               \n",
      "                                                                 \n",
      " lstm_1 (LSTM)               (None, 30, 128)           131584    \n",
      "                                                                 \n",
      " dropout_1 (Dropout)         (None, 30, 128)           0         \n",
      "                                                                 \n",
      " time_distributed (TimeDistr  (None, 30, 1)            129       \n",
      " ibuted)                                                         \n",
      "                                                                 \n",
      "=================================================================\n",
      "Total params: 198,273\n",
      "Trainable params: 198,273\n",
      "Non-trainable params: 0\n",
      "_________________________________________________________________\n"
     ]
    }
   ],
   "source": [
    "model = Sequential()\n",
    "model.add(LSTM(128, input_shape=(X_train.shape[1], X_train.shape[2])))\n",
    "model.add(Dropout(rate=0.2))\n",
    "\n",
    "model.add(RepeatVector(X_train.shape[1]))\n",
    "model.add(LSTM(128, return_sequences=True))\n",
    "\n",
    "model.add(Dropout(rate=0.2))\n",
    "model.add(TimeDistributed(Dense(X_train.shape[2])))\n",
    "\n",
    "model.compile(optimizer=Adam(learning_rate=0.0001, epsilon=1e-08, decay=0.01), loss='mae')\n",
    "model.summary()"
   ]
  },
  {
   "cell_type": "markdown",
   "id": "52ce459f",
   "metadata": {},
   "source": [
    "# Fit The Data to the Model"
   ]
  },
  {
   "cell_type": "code",
   "execution_count": 34,
   "id": "f5744eba",
   "metadata": {},
   "outputs": [
    {
     "name": "stdout",
     "output_type": "stream",
     "text": [
      "Epoch 1/20\n",
      "334/334 [==============================] - 44s 88ms/step - loss: 0.4799 - val_loss: 0.4575\n",
      "Epoch 2/20\n",
      "334/334 [==============================] - 26s 77ms/step - loss: 0.4539 - val_loss: 0.4551\n",
      "Epoch 3/20\n",
      "334/334 [==============================] - 27s 80ms/step - loss: 0.4514 - val_loss: 0.4541\n",
      "Epoch 4/20\n",
      "334/334 [==============================] - 25s 74ms/step - loss: 0.4502 - val_loss: 0.4535\n",
      "Epoch 5/20\n",
      "334/334 [==============================] - 25s 76ms/step - loss: 0.4497 - val_loss: 0.4532\n",
      "Epoch 6/20\n",
      "334/334 [==============================] - 24s 73ms/step - loss: 0.4491 - val_loss: 0.4529\n",
      "Epoch 7/20\n",
      "334/334 [==============================] - 25s 75ms/step - loss: 0.4488 - val_loss: 0.4527\n",
      "Epoch 8/20\n",
      "334/334 [==============================] - 17s 52ms/step - loss: 0.4487 - val_loss: 0.4525\n",
      "Epoch 9/20\n",
      "334/334 [==============================] - 19s 55ms/step - loss: 0.4485 - val_loss: 0.4524\n",
      "Epoch 10/20\n",
      "334/334 [==============================] - 20s 61ms/step - loss: 0.4482 - val_loss: 0.4523\n",
      "Epoch 11/20\n",
      "334/334 [==============================] - 20s 60ms/step - loss: 0.4481 - val_loss: 0.4522\n",
      "Epoch 12/20\n",
      "334/334 [==============================] - 20s 59ms/step - loss: 0.4479 - val_loss: 0.4521\n",
      "Epoch 13/20\n",
      "334/334 [==============================] - 22s 66ms/step - loss: 0.4479 - val_loss: 0.4520\n",
      "Epoch 14/20\n",
      "334/334 [==============================] - 23s 68ms/step - loss: 0.4477 - val_loss: 0.4520\n",
      "Epoch 15/20\n",
      "334/334 [==============================] - 22s 66ms/step - loss: 0.4477 - val_loss: 0.4519\n",
      "Epoch 16/20\n",
      "334/334 [==============================] - 20s 60ms/step - loss: 0.4477 - val_loss: 0.4519\n",
      "Epoch 17/20\n",
      "334/334 [==============================] - 21s 63ms/step - loss: 0.4474 - val_loss: 0.4518\n",
      "Epoch 18/20\n",
      "334/334 [==============================] - 22s 65ms/step - loss: 0.4474 - val_loss: 0.4518\n",
      "Epoch 19/20\n",
      "334/334 [==============================] - 22s 65ms/step - loss: 0.4474 - val_loss: 0.4517\n",
      "Epoch 20/20\n",
      "334/334 [==============================] - 22s 66ms/step - loss: 0.4474 - val_loss: 0.4517\n"
     ]
    }
   ],
   "source": [
    "history = model.fit(X_train[:10000], y_train[:10000], epochs=20, batch_size=30, validation_data=(X_val[:2000], y_val[:2000]),\n",
    "                    callbacks=[keras.callbacks.EarlyStopping(monitor='val_loss', patience=3, mode='min')], shuffle=False)"
   ]
  },
  {
   "cell_type": "code",
   "execution_count": 35,
   "id": "c1ac2782",
   "metadata": {},
   "outputs": [
    {
     "data": {
      "image/png": "[encoded data removed]",
      "text/plain": [
       "<Figure size 432x288 with 1 Axes>"
      ]
     },
     "metadata": {
      "needs_background": "light"
     },
     "output_type": "display_data"
    }
   ],
   "source": [
    "plt.plot(history.history['loss'], label='train')\n",
    "plt.plot(history.history['val_loss'], label='val')\n",
    "plt.legend()\n",
    "plt.show()"
   ]
  },
  {
   "cell_type": "markdown",
   "id": "b2bf9dbf",
   "metadata": {},
   "source": [
    "# Model Evaluation"
   ]
  },
  {
   "cell_type": "code",
   "execution_count": null,
   "id": "ce13d809",
   "metadata": {},
   "outputs": [],
   "source": [
    "X_test_pred = model.predict(X_test[:2000])\n",
    "print(f\" Test Accuracy {X_test_pred[1]}\")\n",
    "test_mae_loss = np.mean(np.abs(X_test_pred - X_test), axis=1)"
   ]
  },
  {
   "cell_type": "code",
   "execution_count": 50,
   "id": "b52aa5ca",
   "metadata": {},
   "outputs": [],
   "source": [
    "from tensorflow.keras.models import save_model\n",
    "from tensorflow.keras.models import load_model\n",
    "from tensorflow.keras.models import save_model\n",
    "import datetime\n",
    "save_model(model, \"E:\\\\10xAccademy_Practice\\\\Week 3\\\\Week 3 Challenge\\\\Sales Data Prediction\\\\Models\\\\LSTM_model-\"+datetime.datetime.now().strftime(\"%Y-%m-%d-%H-%M-%S\")+\".h5\")"
   ]
  },
  {
   "cell_type": "code",
   "execution_count": 51,
   "id": "8aefc5ad",
   "metadata": {},
   "outputs": [],
   "source": [
    "\n",
    "model = load_model(\"E:\\\\10xAccademy_Practice\\\\Week 3\\\\Week 3 Challenge\\\\Sales Data Prediction\\\\Models\\\\LSTM_model-2022-09-11-11-17-32.h5\")"
   ]
  },
  {
   "cell_type": "code",
   "execution_count": 52,
   "id": "08bb5741",
   "metadata": {},
   "outputs": [
    {
     "name": "stdout",
     "output_type": "stream",
     "text": [
      "63/63 [==============================] - 2s 17ms/step\n"
     ]
    }
   ],
   "source": [
    "score=model.predict(X_test[:2000])"
   ]
  },
  {
   "cell_type": "code",
   "execution_count": 53,
   "id": "562e1bf9",
   "metadata": {},
   "outputs": [
    {
     "name": "stdout",
     "output_type": "stream",
     "text": [
      "[[-0.25797382]\n",
      " [-0.4321113 ]\n",
      " [-0.54637396]\n",
      " [-0.61712134]\n",
      " [-0.65735525]\n",
      " [-0.67697835]\n",
      " [-0.683292  ]\n",
      " [-0.6815217 ]\n",
      " [-0.67529196]\n",
      " [-0.6670261 ]\n",
      " [-0.6582704 ]\n",
      " [-0.64994824]\n",
      " [-0.6425536 ]\n",
      " [-0.6362961 ]\n",
      " [-0.63120574]\n",
      " [-0.62720704]\n",
      " [-0.6241695 ]\n",
      " [-0.62194157]\n",
      " [-0.6203708 ]\n",
      " [-0.61931676]\n",
      " [-0.61865604]\n",
      " [-0.6182855 ]\n",
      " [-0.6181215 ]\n",
      " [-0.61809796]\n",
      " [-0.6181647 ]\n",
      " [-0.6182845 ]\n",
      " [-0.6184307 ]\n",
      " [-0.6185847 ]\n",
      " [-0.61873466]\n",
      " [-0.6188732 ]]\n"
     ]
    }
   ],
   "source": [
    "print(score[1])"
   ]
  },
  {
   "cell_type": "code",
   "execution_count": null,
   "id": "f3fb6921",
   "metadata": {},
   "outputs": [],
   "source": []
  },
  {
   "cell_type": "code",
   "execution_count": null,
   "id": "1bded837",
   "metadata": {},
   "outputs": [],
   "source": []
  }
 ],
 "metadata": {
  "kernelspec": {
   "display_name": "Python 3 (ipykernel)",
   "language": "python",
   "name": "python3"
  },
  "language_info": {
   "codemirror_mode": {
    "name": "ipython",
    "version": 3
   },
   "file_extension": ".py",
   "mimetype": "text/x-python",
   "name": "python",
   "nbconvert_exporter": "python",
   "pygments_lexer": "ipython3",
   "version": "3.8.10"
  }
 },
 "nbformat": 4,
 "nbformat_minor": 5
}
